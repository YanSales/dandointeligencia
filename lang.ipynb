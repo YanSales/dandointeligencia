{
  "nbformat": 4,
  "nbformat_minor": 0,
  "metadata": {
    "colab": {
      "provenance": []
    },
    "kernelspec": {
      "name": "python3",
      "display_name": "Python 3"
    },
    "language_info": {
      "name": "python"
    }
  },
  "cells": [
    {
      "cell_type": "markdown",
      "source": [
        "\n",
        "**“Identificação de idioma predominante em textos.**\n",
        "\n",
        "**Passo 1: Instalação das bibliotecas.”**"
      ],
      "metadata": {
        "id": "OLfjyOVQTWIf"
      }
    },
    {
      "cell_type": "code",
      "source": [
        "!pip install langdetect"
      ],
      "metadata": {
        "colab": {
          "base_uri": "https://localhost:8080/"
        },
        "id": "KQJ6fU-_TagA",
        "outputId": "b208ebfe-8cf3-4cfe-ada6-e7b592168965"
      },
      "execution_count": 25,
      "outputs": [
        {
          "output_type": "stream",
          "name": "stdout",
          "text": [
            "Collecting langdetect\n",
            "  Downloading langdetect-1.0.9.tar.gz (981 kB)\n",
            "\u001b[?25l     \u001b[90m━━━━━━━━━━━━━━━━━━━━━━━━━━━━━━━━━━━━━━━━\u001b[0m \u001b[32m0.0/981.5 kB\u001b[0m \u001b[31m?\u001b[0m eta \u001b[36m-:--:--\u001b[0m\r\u001b[2K     \u001b[91m━━━━━━━━━━━\u001b[0m\u001b[91m╸\u001b[0m\u001b[90m━━━━━━━━━━━━━━━━━━━━━━━━━━━━\u001b[0m \u001b[32m286.7/981.5 kB\u001b[0m \u001b[31m8.4 MB/s\u001b[0m eta \u001b[36m0:00:01\u001b[0m\r\u001b[2K     \u001b[90m━━━━━━━━━━━━━━━━━━━━━━━━━━━━━━━━━━━━━━━━\u001b[0m \u001b[32m981.5/981.5 kB\u001b[0m \u001b[31m14.2 MB/s\u001b[0m eta \u001b[36m0:00:00\u001b[0m\n",
            "\u001b[?25h  Preparing metadata (setup.py) ... \u001b[?25l\u001b[?25hdone\n",
            "Requirement already satisfied: six in /usr/local/lib/python3.10/dist-packages (from langdetect) (1.16.0)\n",
            "Building wheels for collected packages: langdetect\n",
            "  Building wheel for langdetect (setup.py) ... \u001b[?25l\u001b[?25hdone\n",
            "  Created wheel for langdetect: filename=langdetect-1.0.9-py3-none-any.whl size=993222 sha256=f633f206d3a5f47c80d8084f2f6bbe8dc95d5a18e4c8170326e6db0d12073231\n",
            "  Stored in directory: /root/.cache/pip/wheels/95/03/7d/59ea870c70ce4e5a370638b5462a7711ab78fba2f655d05106\n",
            "Successfully built langdetect\n",
            "Installing collected packages: langdetect\n",
            "Successfully installed langdetect-1.0.9\n"
          ]
        }
      ]
    },
    {
      "cell_type": "markdown",
      "source": [
        "**“Passo 2: Definindo as frases, em diferentes idiomas, que serão analisadas.”**"
      ],
      "metadata": {
        "id": "QG9NbapZTeEI"
      }
    },
    {
      "cell_type": "code",
      "source": [
        "text = [\"Wear masks, keep distance, wash hands, be safe in these difficult days.\" ,\n",
        "\n",
        "        \"Viseljen maszkot, tartson távolságot, mosson kezet, legyen biztonságban\n",
        "ezekben a nehéz napokban\",\n",
        "\n",
        "        \"Deaths are increasing, be vigilent.\",\n",
        "\n",
        "        \"Носите маски, соблюдайте дистанцию, мойте\n",
        "руки, будьте осторожны в эти тяжелые дни.\",\n",
        "\n",
        "        \"Covid-19: Indians flock to vaccination centers as vaccines are now available\n",
        "for 60+ in India since the 1st of March\",\n",
        "\n",
        "        \"Indossa maschere, mantieni le distanze, lavati le mani, sii al sicuro in questi\n",
        "giorni difficili.\",\n",
        "\n",
        "        \"Portez des masques, gardez vos distances, lavez-vous les mains, soyez en\n",
        "sécurité en ces jours difficiles.\",\n",
        "\n",
        "        \"Brug masker, hold afstand, vask hænder, vær sikker i disse vanskelige\n",
        "dage.\",\n",
        "\n",
        "        \"We are facing a global education crisis. No effort should be spared to safely\n",
        "bring every child back into the classroom.\",\n",
        "\n",
        "        \"Bruk masker, hold avstand, vask hendene, vær trygg i disse vanskelige\n",
        "dagene.\",\n",
        "\n",
        "        \"Portu maskojn, tenu distancon, lavu manojn, estu sekuraj en ĉi tiuj\n",
        "malfacilaj tagoj.\",\n",
        "\n",
        "        \"Tragen Sie Masken, halten Sie Abstand, waschen Sie Ihre Hände, seien Sie\n",
        "in diesen schwierigen Tagen sicher.\",\n",
        "\n",
        "        \"Носіть маски, тримайтеся на відстані,\n",
        "мийте руки, будьте в безпеці в ці важкі дні.\",\n",
        "\n",
        "        \"Lock down , working from home are the keys words for these days.\",\n",
        "\n",
        "        \"Lives have changed drastically across the planet and this period will forever\n",
        "be remembered as the beginning of something we have yet to witness.\",\n",
        "\n",
        "        \"Este é um exemplo de texto escrito em português.\"]"
      ],
      "metadata": {
        "colab": {
          "base_uri": "https://localhost:8080/",
          "height": 106
        },
        "id": "Vjiu9qv8Tgk4",
        "outputId": "7e0ec8f2-456a-414d-8c97-8071c291e242"
      },
      "execution_count": 26,
      "outputs": [
        {
          "output_type": "error",
          "ename": "SyntaxError",
          "evalue": "unterminated string literal (detected at line 3) (<ipython-input-26-3b878b74eaee>, line 3)",
          "traceback": [
            "\u001b[0;36m  File \u001b[0;32m\"<ipython-input-26-3b878b74eaee>\"\u001b[0;36m, line \u001b[0;32m3\u001b[0m\n\u001b[0;31m    \"Viseljen maszkot, tartson távolságot, mosson kezet, legyen biztonságban\u001b[0m\n\u001b[0m    ^\u001b[0m\n\u001b[0;31mSyntaxError\u001b[0m\u001b[0;31m:\u001b[0m unterminated string literal (detected at line 3)\n"
          ]
        }
      ]
    },
    {
      "cell_type": "markdown",
      "source": [
        "**“Passo 3: Recarragendo o ambiente python após a instalação da lib.”**"
      ],
      "metadata": {
        "id": "62rKCYEMTnFx"
      }
    },
    {
      "cell_type": "code",
      "source": [
        "import pkg_resources,imp\n",
        "\n",
        "imp.reload(pkg_resources)"
      ],
      "metadata": {
        "colab": {
          "base_uri": "https://localhost:8080/"
        },
        "id": "JcO1tkR6TpRa",
        "outputId": "c24c5f46-d789-4f71-9582-1e2def7dba84"
      },
      "execution_count": 27,
      "outputs": [
        {
          "output_type": "execute_result",
          "data": {
            "text/plain": [
              "<module 'pkg_resources' from '/usr/local/lib/python3.10/dist-packages/pkg_resources/__init__.py'>"
            ]
          },
          "metadata": {},
          "execution_count": 27
        }
      ]
    },
    {
      "cell_type": "markdown",
      "source": [
        "**“Passo 4: Detectando a linguagem predominante na lista de frases.”**"
      ],
      "metadata": {
        "id": "m_VOh_-MTs5C"
      }
    },
    {
      "cell_type": "code",
      "source": [
        "from langdetect import detect\n",
        "\n",
        "for x in text:\n",
        "\n",
        "    print ('Frase: ', x)\n",
        "\n",
        "    print ('Idioma: ', detect(x), '\\n\\n')"
      ],
      "metadata": {
        "colab": {
          "base_uri": "https://localhost:8080/",
          "height": 894
        },
        "id": "sinJ3O0ZUWfC",
        "outputId": "6e593478-ccba-447d-f1ba-441d340d48f3"
      },
      "execution_count": 30,
      "outputs": [
        {
          "output_type": "stream",
          "name": "stdout",
          "text": [
            "Frase:  N\n",
            "Idioma:  vi \n",
            "\n",
            "\n",
            "Frase:  a\n",
            "Idioma:  tl \n",
            "\n",
            "\n",
            "Frase:  t\n",
            "Idioma:  vi \n",
            "\n",
            "\n",
            "Frase:  i\n",
            "Idioma:  af \n",
            "\n",
            "\n",
            "Frase:  o\n",
            "Idioma:  en \n",
            "\n",
            "\n",
            "Frase:  n\n",
            "Idioma:  tl \n",
            "\n",
            "\n",
            "Frase:  a\n",
            "Idioma:  tl \n",
            "\n",
            "\n",
            "Frase:  l\n",
            "Idioma:  fr \n",
            "\n",
            "\n",
            "Frase:   \n"
          ]
        },
        {
          "output_type": "error",
          "ename": "LangDetectException",
          "evalue": "No features in text.",
          "traceback": [
            "\u001b[0;31m---------------------------------------------------------------------------\u001b[0m",
            "\u001b[0;31mLangDetectException\u001b[0m                       Traceback (most recent call last)",
            "\u001b[0;32m<ipython-input-30-8a4d5de366b2>\u001b[0m in \u001b[0;36m<cell line: 3>\u001b[0;34m()\u001b[0m\n\u001b[1;32m      5\u001b[0m     \u001b[0mprint\u001b[0m \u001b[0;34m(\u001b[0m\u001b[0;34m'Frase: '\u001b[0m\u001b[0;34m,\u001b[0m \u001b[0mx\u001b[0m\u001b[0;34m)\u001b[0m\u001b[0;34m\u001b[0m\u001b[0;34m\u001b[0m\u001b[0m\n\u001b[1;32m      6\u001b[0m \u001b[0;34m\u001b[0m\u001b[0m\n\u001b[0;32m----> 7\u001b[0;31m     \u001b[0mprint\u001b[0m \u001b[0;34m(\u001b[0m\u001b[0;34m'Idioma: '\u001b[0m\u001b[0;34m,\u001b[0m \u001b[0mdetect\u001b[0m\u001b[0;34m(\u001b[0m\u001b[0mx\u001b[0m\u001b[0;34m)\u001b[0m\u001b[0;34m,\u001b[0m \u001b[0;34m'\\n\\n'\u001b[0m\u001b[0;34m)\u001b[0m\u001b[0;34m\u001b[0m\u001b[0;34m\u001b[0m\u001b[0m\n\u001b[0m",
            "\u001b[0;32m/usr/local/lib/python3.10/dist-packages/langdetect/detector_factory.py\u001b[0m in \u001b[0;36mdetect\u001b[0;34m(text)\u001b[0m\n\u001b[1;32m    128\u001b[0m     \u001b[0mdetector\u001b[0m \u001b[0;34m=\u001b[0m \u001b[0m_factory\u001b[0m\u001b[0;34m.\u001b[0m\u001b[0mcreate\u001b[0m\u001b[0;34m(\u001b[0m\u001b[0;34m)\u001b[0m\u001b[0;34m\u001b[0m\u001b[0;34m\u001b[0m\u001b[0m\n\u001b[1;32m    129\u001b[0m     \u001b[0mdetector\u001b[0m\u001b[0;34m.\u001b[0m\u001b[0mappend\u001b[0m\u001b[0;34m(\u001b[0m\u001b[0mtext\u001b[0m\u001b[0;34m)\u001b[0m\u001b[0;34m\u001b[0m\u001b[0;34m\u001b[0m\u001b[0m\n\u001b[0;32m--> 130\u001b[0;31m     \u001b[0;32mreturn\u001b[0m \u001b[0mdetector\u001b[0m\u001b[0;34m.\u001b[0m\u001b[0mdetect\u001b[0m\u001b[0;34m(\u001b[0m\u001b[0;34m)\u001b[0m\u001b[0;34m\u001b[0m\u001b[0;34m\u001b[0m\u001b[0m\n\u001b[0m\u001b[1;32m    131\u001b[0m \u001b[0;34m\u001b[0m\u001b[0m\n\u001b[1;32m    132\u001b[0m \u001b[0;34m\u001b[0m\u001b[0m\n",
            "\u001b[0;32m/usr/local/lib/python3.10/dist-packages/langdetect/detector.py\u001b[0m in \u001b[0;36mdetect\u001b[0;34m(self)\u001b[0m\n\u001b[1;32m    134\u001b[0m         \u001b[0mwhich\u001b[0m \u001b[0mhas\u001b[0m \u001b[0mthe\u001b[0m \u001b[0mhighest\u001b[0m \u001b[0mprobability\u001b[0m\u001b[0;34m.\u001b[0m\u001b[0;34m\u001b[0m\u001b[0;34m\u001b[0m\u001b[0m\n\u001b[1;32m    135\u001b[0m         '''\n\u001b[0;32m--> 136\u001b[0;31m         \u001b[0mprobabilities\u001b[0m \u001b[0;34m=\u001b[0m \u001b[0mself\u001b[0m\u001b[0;34m.\u001b[0m\u001b[0mget_probabilities\u001b[0m\u001b[0;34m(\u001b[0m\u001b[0;34m)\u001b[0m\u001b[0;34m\u001b[0m\u001b[0;34m\u001b[0m\u001b[0m\n\u001b[0m\u001b[1;32m    137\u001b[0m         \u001b[0;32mif\u001b[0m \u001b[0mprobabilities\u001b[0m\u001b[0;34m:\u001b[0m\u001b[0;34m\u001b[0m\u001b[0;34m\u001b[0m\u001b[0m\n\u001b[1;32m    138\u001b[0m             \u001b[0;32mreturn\u001b[0m \u001b[0mprobabilities\u001b[0m\u001b[0;34m[\u001b[0m\u001b[0;36m0\u001b[0m\u001b[0;34m]\u001b[0m\u001b[0;34m.\u001b[0m\u001b[0mlang\u001b[0m\u001b[0;34m\u001b[0m\u001b[0;34m\u001b[0m\u001b[0m\n",
            "\u001b[0;32m/usr/local/lib/python3.10/dist-packages/langdetect/detector.py\u001b[0m in \u001b[0;36mget_probabilities\u001b[0;34m(self)\u001b[0m\n\u001b[1;32m    141\u001b[0m     \u001b[0;32mdef\u001b[0m \u001b[0mget_probabilities\u001b[0m\u001b[0;34m(\u001b[0m\u001b[0mself\u001b[0m\u001b[0;34m)\u001b[0m\u001b[0;34m:\u001b[0m\u001b[0;34m\u001b[0m\u001b[0;34m\u001b[0m\u001b[0m\n\u001b[1;32m    142\u001b[0m         \u001b[0;32mif\u001b[0m \u001b[0mself\u001b[0m\u001b[0;34m.\u001b[0m\u001b[0mlangprob\u001b[0m \u001b[0;32mis\u001b[0m \u001b[0;32mNone\u001b[0m\u001b[0;34m:\u001b[0m\u001b[0;34m\u001b[0m\u001b[0;34m\u001b[0m\u001b[0m\n\u001b[0;32m--> 143\u001b[0;31m             \u001b[0mself\u001b[0m\u001b[0;34m.\u001b[0m\u001b[0m_detect_block\u001b[0m\u001b[0;34m(\u001b[0m\u001b[0;34m)\u001b[0m\u001b[0;34m\u001b[0m\u001b[0;34m\u001b[0m\u001b[0m\n\u001b[0m\u001b[1;32m    144\u001b[0m         \u001b[0;32mreturn\u001b[0m \u001b[0mself\u001b[0m\u001b[0;34m.\u001b[0m\u001b[0m_sort_probability\u001b[0m\u001b[0;34m(\u001b[0m\u001b[0mself\u001b[0m\u001b[0;34m.\u001b[0m\u001b[0mlangprob\u001b[0m\u001b[0;34m)\u001b[0m\u001b[0;34m\u001b[0m\u001b[0;34m\u001b[0m\u001b[0m\n\u001b[1;32m    145\u001b[0m \u001b[0;34m\u001b[0m\u001b[0m\n",
            "\u001b[0;32m/usr/local/lib/python3.10/dist-packages/langdetect/detector.py\u001b[0m in \u001b[0;36m_detect_block\u001b[0;34m(self)\u001b[0m\n\u001b[1;32m    148\u001b[0m         \u001b[0mngrams\u001b[0m \u001b[0;34m=\u001b[0m \u001b[0mself\u001b[0m\u001b[0;34m.\u001b[0m\u001b[0m_extract_ngrams\u001b[0m\u001b[0;34m(\u001b[0m\u001b[0;34m)\u001b[0m\u001b[0;34m\u001b[0m\u001b[0;34m\u001b[0m\u001b[0m\n\u001b[1;32m    149\u001b[0m         \u001b[0;32mif\u001b[0m \u001b[0;32mnot\u001b[0m \u001b[0mngrams\u001b[0m\u001b[0;34m:\u001b[0m\u001b[0;34m\u001b[0m\u001b[0;34m\u001b[0m\u001b[0m\n\u001b[0;32m--> 150\u001b[0;31m             \u001b[0;32mraise\u001b[0m \u001b[0mLangDetectException\u001b[0m\u001b[0;34m(\u001b[0m\u001b[0mErrorCode\u001b[0m\u001b[0;34m.\u001b[0m\u001b[0mCantDetectError\u001b[0m\u001b[0;34m,\u001b[0m \u001b[0;34m'No features in text.'\u001b[0m\u001b[0;34m)\u001b[0m\u001b[0;34m\u001b[0m\u001b[0;34m\u001b[0m\u001b[0m\n\u001b[0m\u001b[1;32m    151\u001b[0m \u001b[0;34m\u001b[0m\u001b[0m\n\u001b[1;32m    152\u001b[0m         \u001b[0mself\u001b[0m\u001b[0;34m.\u001b[0m\u001b[0mlangprob\u001b[0m \u001b[0;34m=\u001b[0m \u001b[0;34m[\u001b[0m\u001b[0;36m0.0\u001b[0m\u001b[0;34m]\u001b[0m \u001b[0;34m*\u001b[0m \u001b[0mlen\u001b[0m\u001b[0;34m(\u001b[0m\u001b[0mself\u001b[0m\u001b[0;34m.\u001b[0m\u001b[0mlanglist\u001b[0m\u001b[0;34m)\u001b[0m\u001b[0;34m\u001b[0m\u001b[0;34m\u001b[0m\u001b[0m\n",
            "\u001b[0;31mLangDetectException\u001b[0m: No features in text."
          ]
        }
      ]
    },
    {
      "cell_type": "code",
      "source": [
        "from langdetect import detect, LangDetectException\n",
        "\n",
        "texts = ['N', 'a', 't', 'i', 'o', 'n', 'a', 'l']  # Corrigido\n",
        "\n",
        "for x in texts:\n",
        "    print('Frase: ', x)\n",
        "    try:\n",
        "        print('Idioma: ', detect(x), '\\n')\n",
        "    except LangDetectException as e:\n",
        "        print(f\"Erro ao detectar idioma para '{x}': {e}\")\n"
      ],
      "metadata": {
        "colab": {
          "base_uri": "https://localhost:8080/"
        },
        "id": "VGIbUDJpUL6W",
        "outputId": "5f00f70c-94d7-4f46-e52e-0e6951e05868"
      },
      "execution_count": 29,
      "outputs": [
        {
          "output_type": "stream",
          "name": "stdout",
          "text": [
            "Frase:  N\n",
            "Idioma:  vi \n",
            "\n",
            "Frase:  a\n",
            "Idioma:  tl \n",
            "\n",
            "Frase:  t\n",
            "Idioma:  vi \n",
            "\n",
            "Frase:  i\n",
            "Idioma:  af \n",
            "\n",
            "Frase:  o\n",
            "Idioma:  en \n",
            "\n",
            "Frase:  n\n",
            "Idioma:  tl \n",
            "\n",
            "Frase:  a\n",
            "Idioma:  tl \n",
            "\n",
            "Frase:  l\n",
            "Idioma:  fr \n",
            "\n"
          ]
        }
      ]
    }
  ]
}